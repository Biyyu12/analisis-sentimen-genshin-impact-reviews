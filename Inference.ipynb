{
  "nbformat": 4,
  "nbformat_minor": 0,
  "metadata": {
    "colab": {
      "provenance": []
    },
    "kernelspec": {
      "name": "python3",
      "display_name": "Python 3"
    },
    "language_info": {
      "name": "python"
    }
  },
  "cells": [
    {
      "cell_type": "code",
      "execution_count": 2,
      "metadata": {
        "id": "il4jM-b3DEJY"
      },
      "outputs": [],
      "source": [
        "import numpy as np\n",
        "import pandas as pd\n",
        "import tensorflow as tf\n",
        "\n",
        "from sklearn.preprocessing import LabelEncoder\n",
        "from tensorflow.keras.models import load_model\n",
        "from sklearn.feature_extraction.text import TfidfVectorizer\n",
        "\n",
        "model = load_model('best_model_cnn.h5')"
      ]
    },
    {
      "cell_type": "code",
      "source": [
        "df_oversampled = pd.read_csv('df_oversampled.csv')\n",
        "\n",
        "tfidf = TfidfVectorizer(max_features=100, ngram_range=(1, 2))\n",
        "tfidf.fit(df_oversampled['text_akhir'])\n",
        "\n",
        "def preprocess(text, tfidf):\n",
        "   x_tfidf = tfidf.transform(text).toarray()\n",
        "   x_tfidf = x_tfidf[..., None]\n",
        "   return x_tfidf\n",
        "\n",
        "text = [\"Game ini cukup menyenangkan untuk dimainkan, tetapi hadiahnya sedikit\",\n",
        "        \"Game buruk, terlalu kikir, dan banyak memakan ruang penyimpanan. Saya sangat menyesal download game sampah ini\",\n",
        "        \"Seru, gua suka banget sama gamenya\"\n",
        "        ]\n",
        "x_input = preprocess(text, tfidf)"
      ],
      "metadata": {
        "id": "1UDrGPMcD6Vh"
      },
      "execution_count": 15,
      "outputs": []
    },
    {
      "cell_type": "code",
      "source": [
        "predictions = model.predict(x_input)\n",
        "\n",
        "predicted_classes = np.argmax(predictions, axis=1)\n",
        "\n",
        "label_encoder = LabelEncoder()\n",
        "label_encoder.classes_ = np.array(['negative', 'neutral', 'positive'])\n",
        "predicted_labels = label_encoder.inverse_transform(predicted_classes)\n",
        "\n",
        "for text, label in zip(text, predicted_labels):\n",
        "    print(f'Teks: {text} -> Prediksi Sentimen: {label}')"
      ],
      "metadata": {
        "colab": {
          "base_uri": "https://localhost:8080/"
        },
        "id": "Wxz9L5SuFK42",
        "outputId": "71e1195f-1e90-41b2-b839-7ff69952264c"
      },
      "execution_count": 16,
      "outputs": [
        {
          "output_type": "stream",
          "name": "stdout",
          "text": [
            "1/1 [==============================] - 0s 27ms/step\n",
            "Teks: Game ini cukup menyenangkan untuk dimainkan, tetapi hadiahnya sedikit -> Prediksi Sentimen: neutral\n",
            "Teks: Game buruk, terlalu kikir, dan banyak memakan ruang penyimpanan. Saya sangat menyesal download game sampah ini -> Prediksi Sentimen: negative\n",
            "Teks: Seru, gua suka banget sama gamenya -> Prediksi Sentimen: positive\n"
          ]
        }
      ]
    },
    {
      "cell_type": "code",
      "source": [
        "text_input = [input(\"Masukkan tesk: \")]\n",
        "\n",
        "x_input = preprocess(text_input, tfidf)\n",
        "predictions = model.predict(x_input)\n",
        "predicted_classes = np.argmax(predictions, axis=1)\n",
        "\n",
        "label_encoder = LabelEncoder()\n",
        "label_encoder.classes_ = np.array(['negative', 'neutral', 'positive'])\n",
        "predicted_labels = label_encoder.inverse_transform(predicted_classes)\n",
        "for text, label in zip(text, predicted_labels):\n",
        "    print(f'Teks: {text_input} -> Prediksi Sentimen: {label}')"
      ],
      "metadata": {
        "colab": {
          "base_uri": "https://localhost:8080/"
        },
        "id": "qk6EgvzTTvhl",
        "outputId": "c8a59648-73fd-4302-9fda-6a3f230ee50d"
      },
      "execution_count": 19,
      "outputs": [
        {
          "output_type": "stream",
          "name": "stdout",
          "text": [
            "Masukkan tesk: Game pelit, kikir, sampah, boros ruang penyimpanan\n",
            "1/1 [==============================] - 0s 32ms/step\n",
            "Teks: ['Game pelit, kikir, sampah, boros ruang penyimpanan'] -> Prediksi Sentimen: negative\n"
          ]
        }
      ]
    }
  ]
}