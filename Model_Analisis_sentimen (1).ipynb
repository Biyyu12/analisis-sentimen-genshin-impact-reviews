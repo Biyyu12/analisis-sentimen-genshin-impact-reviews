{
  "cells": [
    {
      "cell_type": "markdown",
      "metadata": {
        "id": "9s0WR1NpiwQc"
      },
      "source": [
        "# Pre-processing dataset dan Labeling"
      ]
    },
    {
      "cell_type": "code",
      "execution_count": 1,
      "metadata": {
        "colab": {
          "base_uri": "https://localhost:8080/"
        },
        "id": "1dyHMGnBBoKA",
        "outputId": "10af1a15-4d6a-48bc-9efe-1a3c6a76a71e"
      },
      "outputs": [
        {
          "output_type": "stream",
          "name": "stdout",
          "text": [
            "Collecting sastrawi\n",
            "  Downloading Sastrawi-1.0.1-py2.py3-none-any.whl (209 kB)\n",
            "\u001b[2K     \u001b[90m━━━━━━━━━━━━━━━━━━━━━━━━━━━━━━━━━━━━━━━━\u001b[0m \u001b[32m209.7/209.7 kB\u001b[0m \u001b[31m3.6 MB/s\u001b[0m eta \u001b[36m0:00:00\u001b[0m\n",
            "\u001b[?25hInstalling collected packages: sastrawi\n",
            "Successfully installed sastrawi-1.0.1\n"
          ]
        }
      ],
      "source": [
        "!pip install sastrawi"
      ]
    },
    {
      "cell_type": "code",
      "execution_count": 2,
      "metadata": {
        "id": "UAioWRYZ_7jK"
      },
      "outputs": [],
      "source": [
        "import pandas as pd\n",
        "import matplotlib.pyplot as plt\n",
        "import seaborn as sns\n",
        "import datetime as dt\n",
        "import re\n",
        "import string\n",
        "import nltk\n",
        "import csv\n",
        "\n",
        "from nltk.corpus import stopwords\n",
        "from nltk.tokenize import word_tokenize\n",
        "from Sastrawi.Stemmer.StemmerFactory import StemmerFactory\n",
        "from Sastrawi.StopWordRemover.StopWordRemoverFactory import StopWordRemoverFactory\n",
        "from sklearn.feature_extraction.text import CountVectorizer\n",
        "from sklearn.feature_extraction.text import TfidfVectorizer"
      ]
    },
    {
      "cell_type": "code",
      "execution_count": 3,
      "metadata": {
        "colab": {
          "base_uri": "https://localhost:8080/"
        },
        "id": "mfiLYnobBqdM",
        "outputId": "c703dd4d-b45c-471e-e04d-c29b1feb09ed"
      },
      "outputs": [
        {
          "output_type": "stream",
          "name": "stderr",
          "text": [
            "[nltk_data] Downloading package stopwords to /root/nltk_data...\n",
            "[nltk_data]   Unzipping corpora/stopwords.zip.\n",
            "[nltk_data] Downloading package punkt to /root/nltk_data...\n",
            "[nltk_data]   Unzipping tokenizers/punkt.zip.\n"
          ]
        },
        {
          "output_type": "execute_result",
          "data": {
            "text/plain": [
              "True"
            ]
          },
          "metadata": {},
          "execution_count": 3
        }
      ],
      "source": [
        "pd.options.mode.chained_assignment = None\n",
        "nltk.download('stopwords')\n",
        "nltk.download('punkt')"
      ]
    },
    {
      "cell_type": "code",
      "execution_count": 4,
      "metadata": {
        "colab": {
          "base_uri": "https://localhost:8080/",
          "height": 1000
        },
        "id": "Ut_BrOAmiRIk",
        "outputId": "8b132668-d89b-4e5b-f5f3-9ed7cb95a00e"
      },
      "outputs": [
        {
          "output_type": "execute_result",
          "data": {
            "text/plain": [
              "                                   reviewId                userName  \\\n",
              "0      2ea69484-93eb-4637-b04e-05b590c6b724         Pengguna Google   \n",
              "1      9c27392e-58a7-408c-b7ef-fd4698c1f382         Pengguna Google   \n",
              "2      2f6ff0a7-d3bd-447a-bb44-bff436a10499         Pengguna Google   \n",
              "3      caf0285a-a30e-4554-bfbf-04d98045f84d         Pengguna Google   \n",
              "4      70a6ed92-22b1-4931-bae6-fcec78d58586         Pengguna Google   \n",
              "...                                     ...                     ...   \n",
              "10995  d8feb4f3-2393-416a-a565-4e09669b012f                    Feez   \n",
              "10996  10291799-30d1-4d5e-821f-9b66c6e30974            ratna gultom   \n",
              "10997  f998cebf-b177-46db-9b8d-1a13900a1efc            Azis Hidayat   \n",
              "10998  9e5932f6-1d43-4c33-97be-4109d985c1b7               Nurhayati   \n",
              "10999  b4ba4f75-8b51-4933-a51f-a48ef01abafe  Anastasya Gracia Fully   \n",
              "\n",
              "                                               userImage  score  \\\n",
              "0      https://play-lh.googleusercontent.com/EGemoI2N...      5   \n",
              "1      https://play-lh.googleusercontent.com/EGemoI2N...      5   \n",
              "2      https://play-lh.googleusercontent.com/EGemoI2N...      3   \n",
              "3      https://play-lh.googleusercontent.com/EGemoI2N...      1   \n",
              "4      https://play-lh.googleusercontent.com/EGemoI2N...      5   \n",
              "...                                                  ...    ...   \n",
              "10995  https://play-lh.googleusercontent.com/a-/ALV-U...      4   \n",
              "10996  https://play-lh.googleusercontent.com/a/ACg8oc...      5   \n",
              "10997  https://play-lh.googleusercontent.com/a/ACg8oc...      3   \n",
              "10998  https://play-lh.googleusercontent.com/a/ACg8oc...      5   \n",
              "10999  https://play-lh.googleusercontent.com/a-/ALV-U...      4   \n",
              "\n",
              "                                                 content  thumbsUpCount  \\\n",
              "0      Overall bagus semua, char, grafik, musik, worl...             94   \n",
              "1      dari grafik dan story udah bagus banget! karak...            766   \n",
              "2      Kalau dari grafik, dan animasinya sih udah bag...             59   \n",
              "3      Tolong ditambah lagi reward untuk gachanya, un...            482   \n",
              "4      Dari grafik dan story udah bagus banget! Walau...             46   \n",
              "...                                                  ...            ...   \n",
              "10995  bagus dah intinya, cuma tambahkan mode offline...              0   \n",
              "10996  Seru gw suka game ini karena menantang kalo ad...              0   \n",
              "10997  Tolong perbaiki bug punya saya tidak bisa ques...              0   \n",
              "10998  Gamenya sih bagus, tapi terlalu besar, tolong ...              0   \n",
              "10999  Overall sudah bagus sih tpi tolong dong kalo s...            126   \n",
              "\n",
              "                        at  \n",
              "0      2024-07-06 00:49:05  \n",
              "1      2024-06-18 03:54:46  \n",
              "2      2024-06-09 10:11:32  \n",
              "3      2024-06-08 06:41:10  \n",
              "4      2024-06-30 13:04:02  \n",
              "...                    ...  \n",
              "10995  2022-12-30 06:30:25  \n",
              "10996  2021-03-17 12:06:10  \n",
              "10997  2020-10-03 05:46:03  \n",
              "10998  2021-04-30 07:04:24  \n",
              "10999  2022-07-12 22:49:50  \n",
              "\n",
              "[11000 rows x 7 columns]"
            ],
            "text/html": [
              "\n",
              "  <div id=\"df-27975682-24ec-428e-b354-0a33c25d916b\" class=\"colab-df-container\">\n",
              "    <div>\n",
              "<style scoped>\n",
              "    .dataframe tbody tr th:only-of-type {\n",
              "        vertical-align: middle;\n",
              "    }\n",
              "\n",
              "    .dataframe tbody tr th {\n",
              "        vertical-align: top;\n",
              "    }\n",
              "\n",
              "    .dataframe thead th {\n",
              "        text-align: right;\n",
              "    }\n",
              "</style>\n",
              "<table border=\"1\" class=\"dataframe\">\n",
              "  <thead>\n",
              "    <tr style=\"text-align: right;\">\n",
              "      <th></th>\n",
              "      <th>reviewId</th>\n",
              "      <th>userName</th>\n",
              "      <th>userImage</th>\n",
              "      <th>score</th>\n",
              "      <th>content</th>\n",
              "      <th>thumbsUpCount</th>\n",
              "      <th>at</th>\n",
              "    </tr>\n",
              "  </thead>\n",
              "  <tbody>\n",
              "    <tr>\n",
              "      <th>0</th>\n",
              "      <td>2ea69484-93eb-4637-b04e-05b590c6b724</td>\n",
              "      <td>Pengguna Google</td>\n",
              "      <td>https://play-lh.googleusercontent.com/EGemoI2N...</td>\n",
              "      <td>5</td>\n",
              "      <td>Overall bagus semua, char, grafik, musik, worl...</td>\n",
              "      <td>94</td>\n",
              "      <td>2024-07-06 00:49:05</td>\n",
              "    </tr>\n",
              "    <tr>\n",
              "      <th>1</th>\n",
              "      <td>9c27392e-58a7-408c-b7ef-fd4698c1f382</td>\n",
              "      <td>Pengguna Google</td>\n",
              "      <td>https://play-lh.googleusercontent.com/EGemoI2N...</td>\n",
              "      <td>5</td>\n",
              "      <td>dari grafik dan story udah bagus banget! karak...</td>\n",
              "      <td>766</td>\n",
              "      <td>2024-06-18 03:54:46</td>\n",
              "    </tr>\n",
              "    <tr>\n",
              "      <th>2</th>\n",
              "      <td>2f6ff0a7-d3bd-447a-bb44-bff436a10499</td>\n",
              "      <td>Pengguna Google</td>\n",
              "      <td>https://play-lh.googleusercontent.com/EGemoI2N...</td>\n",
              "      <td>3</td>\n",
              "      <td>Kalau dari grafik, dan animasinya sih udah bag...</td>\n",
              "      <td>59</td>\n",
              "      <td>2024-06-09 10:11:32</td>\n",
              "    </tr>\n",
              "    <tr>\n",
              "      <th>3</th>\n",
              "      <td>caf0285a-a30e-4554-bfbf-04d98045f84d</td>\n",
              "      <td>Pengguna Google</td>\n",
              "      <td>https://play-lh.googleusercontent.com/EGemoI2N...</td>\n",
              "      <td>1</td>\n",
              "      <td>Tolong ditambah lagi reward untuk gachanya, un...</td>\n",
              "      <td>482</td>\n",
              "      <td>2024-06-08 06:41:10</td>\n",
              "    </tr>\n",
              "    <tr>\n",
              "      <th>4</th>\n",
              "      <td>70a6ed92-22b1-4931-bae6-fcec78d58586</td>\n",
              "      <td>Pengguna Google</td>\n",
              "      <td>https://play-lh.googleusercontent.com/EGemoI2N...</td>\n",
              "      <td>5</td>\n",
              "      <td>Dari grafik dan story udah bagus banget! Walau...</td>\n",
              "      <td>46</td>\n",
              "      <td>2024-06-30 13:04:02</td>\n",
              "    </tr>\n",
              "    <tr>\n",
              "      <th>...</th>\n",
              "      <td>...</td>\n",
              "      <td>...</td>\n",
              "      <td>...</td>\n",
              "      <td>...</td>\n",
              "      <td>...</td>\n",
              "      <td>...</td>\n",
              "      <td>...</td>\n",
              "    </tr>\n",
              "    <tr>\n",
              "      <th>10995</th>\n",
              "      <td>d8feb4f3-2393-416a-a565-4e09669b012f</td>\n",
              "      <td>Feez</td>\n",
              "      <td>https://play-lh.googleusercontent.com/a-/ALV-U...</td>\n",
              "      <td>4</td>\n",
              "      <td>bagus dah intinya, cuma tambahkan mode offline...</td>\n",
              "      <td>0</td>\n",
              "      <td>2022-12-30 06:30:25</td>\n",
              "    </tr>\n",
              "    <tr>\n",
              "      <th>10996</th>\n",
              "      <td>10291799-30d1-4d5e-821f-9b66c6e30974</td>\n",
              "      <td>ratna gultom</td>\n",
              "      <td>https://play-lh.googleusercontent.com/a/ACg8oc...</td>\n",
              "      <td>5</td>\n",
              "      <td>Seru gw suka game ini karena menantang kalo ad...</td>\n",
              "      <td>0</td>\n",
              "      <td>2021-03-17 12:06:10</td>\n",
              "    </tr>\n",
              "    <tr>\n",
              "      <th>10997</th>\n",
              "      <td>f998cebf-b177-46db-9b8d-1a13900a1efc</td>\n",
              "      <td>Azis Hidayat</td>\n",
              "      <td>https://play-lh.googleusercontent.com/a/ACg8oc...</td>\n",
              "      <td>3</td>\n",
              "      <td>Tolong perbaiki bug punya saya tidak bisa ques...</td>\n",
              "      <td>0</td>\n",
              "      <td>2020-10-03 05:46:03</td>\n",
              "    </tr>\n",
              "    <tr>\n",
              "      <th>10998</th>\n",
              "      <td>9e5932f6-1d43-4c33-97be-4109d985c1b7</td>\n",
              "      <td>Nurhayati</td>\n",
              "      <td>https://play-lh.googleusercontent.com/a/ACg8oc...</td>\n",
              "      <td>5</td>\n",
              "      <td>Gamenya sih bagus, tapi terlalu besar, tolong ...</td>\n",
              "      <td>0</td>\n",
              "      <td>2021-04-30 07:04:24</td>\n",
              "    </tr>\n",
              "    <tr>\n",
              "      <th>10999</th>\n",
              "      <td>b4ba4f75-8b51-4933-a51f-a48ef01abafe</td>\n",
              "      <td>Anastasya Gracia Fully</td>\n",
              "      <td>https://play-lh.googleusercontent.com/a-/ALV-U...</td>\n",
              "      <td>4</td>\n",
              "      <td>Overall sudah bagus sih tpi tolong dong kalo s...</td>\n",
              "      <td>126</td>\n",
              "      <td>2022-07-12 22:49:50</td>\n",
              "    </tr>\n",
              "  </tbody>\n",
              "</table>\n",
              "<p>11000 rows × 7 columns</p>\n",
              "</div>\n",
              "    <div class=\"colab-df-buttons\">\n",
              "\n",
              "  <div class=\"colab-df-container\">\n",
              "    <button class=\"colab-df-convert\" onclick=\"convertToInteractive('df-27975682-24ec-428e-b354-0a33c25d916b')\"\n",
              "            title=\"Convert this dataframe to an interactive table.\"\n",
              "            style=\"display:none;\">\n",
              "\n",
              "  <svg xmlns=\"http://www.w3.org/2000/svg\" height=\"24px\" viewBox=\"0 -960 960 960\">\n",
              "    <path d=\"M120-120v-720h720v720H120Zm60-500h600v-160H180v160Zm220 220h160v-160H400v160Zm0 220h160v-160H400v160ZM180-400h160v-160H180v160Zm440 0h160v-160H620v160ZM180-180h160v-160H180v160Zm440 0h160v-160H620v160Z\"/>\n",
              "  </svg>\n",
              "    </button>\n",
              "\n",
              "  <style>\n",
              "    .colab-df-container {\n",
              "      display:flex;\n",
              "      gap: 12px;\n",
              "    }\n",
              "\n",
              "    .colab-df-convert {\n",
              "      background-color: #E8F0FE;\n",
              "      border: none;\n",
              "      border-radius: 50%;\n",
              "      cursor: pointer;\n",
              "      display: none;\n",
              "      fill: #1967D2;\n",
              "      height: 32px;\n",
              "      padding: 0 0 0 0;\n",
              "      width: 32px;\n",
              "    }\n",
              "\n",
              "    .colab-df-convert:hover {\n",
              "      background-color: #E2EBFA;\n",
              "      box-shadow: 0px 1px 2px rgba(60, 64, 67, 0.3), 0px 1px 3px 1px rgba(60, 64, 67, 0.15);\n",
              "      fill: #174EA6;\n",
              "    }\n",
              "\n",
              "    .colab-df-buttons div {\n",
              "      margin-bottom: 4px;\n",
              "    }\n",
              "\n",
              "    [theme=dark] .colab-df-convert {\n",
              "      background-color: #3B4455;\n",
              "      fill: #D2E3FC;\n",
              "    }\n",
              "\n",
              "    [theme=dark] .colab-df-convert:hover {\n",
              "      background-color: #434B5C;\n",
              "      box-shadow: 0px 1px 3px 1px rgba(0, 0, 0, 0.15);\n",
              "      filter: drop-shadow(0px 1px 2px rgba(0, 0, 0, 0.3));\n",
              "      fill: #FFFFFF;\n",
              "    }\n",
              "  </style>\n",
              "\n",
              "    <script>\n",
              "      const buttonEl =\n",
              "        document.querySelector('#df-27975682-24ec-428e-b354-0a33c25d916b button.colab-df-convert');\n",
              "      buttonEl.style.display =\n",
              "        google.colab.kernel.accessAllowed ? 'block' : 'none';\n",
              "\n",
              "      async function convertToInteractive(key) {\n",
              "        const element = document.querySelector('#df-27975682-24ec-428e-b354-0a33c25d916b');\n",
              "        const dataTable =\n",
              "          await google.colab.kernel.invokeFunction('convertToInteractive',\n",
              "                                                    [key], {});\n",
              "        if (!dataTable) return;\n",
              "\n",
              "        const docLinkHtml = 'Like what you see? Visit the ' +\n",
              "          '<a target=\"_blank\" href=https://colab.research.google.com/notebooks/data_table.ipynb>data table notebook</a>'\n",
              "          + ' to learn more about interactive tables.';\n",
              "        element.innerHTML = '';\n",
              "        dataTable['output_type'] = 'display_data';\n",
              "        await google.colab.output.renderOutput(dataTable, element);\n",
              "        const docLink = document.createElement('div');\n",
              "        docLink.innerHTML = docLinkHtml;\n",
              "        element.appendChild(docLink);\n",
              "      }\n",
              "    </script>\n",
              "  </div>\n",
              "\n",
              "\n",
              "<div id=\"df-b4361eb6-19ce-416c-a7a3-a6d0cfb2b5a5\">\n",
              "  <button class=\"colab-df-quickchart\" onclick=\"quickchart('df-b4361eb6-19ce-416c-a7a3-a6d0cfb2b5a5')\"\n",
              "            title=\"Suggest charts\"\n",
              "            style=\"display:none;\">\n",
              "\n",
              "<svg xmlns=\"http://www.w3.org/2000/svg\" height=\"24px\"viewBox=\"0 0 24 24\"\n",
              "     width=\"24px\">\n",
              "    <g>\n",
              "        <path d=\"M19 3H5c-1.1 0-2 .9-2 2v14c0 1.1.9 2 2 2h14c1.1 0 2-.9 2-2V5c0-1.1-.9-2-2-2zM9 17H7v-7h2v7zm4 0h-2V7h2v10zm4 0h-2v-4h2v4z\"/>\n",
              "    </g>\n",
              "</svg>\n",
              "  </button>\n",
              "\n",
              "<style>\n",
              "  .colab-df-quickchart {\n",
              "      --bg-color: #E8F0FE;\n",
              "      --fill-color: #1967D2;\n",
              "      --hover-bg-color: #E2EBFA;\n",
              "      --hover-fill-color: #174EA6;\n",
              "      --disabled-fill-color: #AAA;\n",
              "      --disabled-bg-color: #DDD;\n",
              "  }\n",
              "\n",
              "  [theme=dark] .colab-df-quickchart {\n",
              "      --bg-color: #3B4455;\n",
              "      --fill-color: #D2E3FC;\n",
              "      --hover-bg-color: #434B5C;\n",
              "      --hover-fill-color: #FFFFFF;\n",
              "      --disabled-bg-color: #3B4455;\n",
              "      --disabled-fill-color: #666;\n",
              "  }\n",
              "\n",
              "  .colab-df-quickchart {\n",
              "    background-color: var(--bg-color);\n",
              "    border: none;\n",
              "    border-radius: 50%;\n",
              "    cursor: pointer;\n",
              "    display: none;\n",
              "    fill: var(--fill-color);\n",
              "    height: 32px;\n",
              "    padding: 0;\n",
              "    width: 32px;\n",
              "  }\n",
              "\n",
              "  .colab-df-quickchart:hover {\n",
              "    background-color: var(--hover-bg-color);\n",
              "    box-shadow: 0 1px 2px rgba(60, 64, 67, 0.3), 0 1px 3px 1px rgba(60, 64, 67, 0.15);\n",
              "    fill: var(--button-hover-fill-color);\n",
              "  }\n",
              "\n",
              "  .colab-df-quickchart-complete:disabled,\n",
              "  .colab-df-quickchart-complete:disabled:hover {\n",
              "    background-color: var(--disabled-bg-color);\n",
              "    fill: var(--disabled-fill-color);\n",
              "    box-shadow: none;\n",
              "  }\n",
              "\n",
              "  .colab-df-spinner {\n",
              "    border: 2px solid var(--fill-color);\n",
              "    border-color: transparent;\n",
              "    border-bottom-color: var(--fill-color);\n",
              "    animation:\n",
              "      spin 1s steps(1) infinite;\n",
              "  }\n",
              "\n",
              "  @keyframes spin {\n",
              "    0% {\n",
              "      border-color: transparent;\n",
              "      border-bottom-color: var(--fill-color);\n",
              "      border-left-color: var(--fill-color);\n",
              "    }\n",
              "    20% {\n",
              "      border-color: transparent;\n",
              "      border-left-color: var(--fill-color);\n",
              "      border-top-color: var(--fill-color);\n",
              "    }\n",
              "    30% {\n",
              "      border-color: transparent;\n",
              "      border-left-color: var(--fill-color);\n",
              "      border-top-color: var(--fill-color);\n",
              "      border-right-color: var(--fill-color);\n",
              "    }\n",
              "    40% {\n",
              "      border-color: transparent;\n",
              "      border-right-color: var(--fill-color);\n",
              "      border-top-color: var(--fill-color);\n",
              "    }\n",
              "    60% {\n",
              "      border-color: transparent;\n",
              "      border-right-color: var(--fill-color);\n",
              "    }\n",
              "    80% {\n",
              "      border-color: transparent;\n",
              "      border-right-color: var(--fill-color);\n",
              "      border-bottom-color: var(--fill-color);\n",
              "    }\n",
              "    90% {\n",
              "      border-color: transparent;\n",
              "      border-bottom-color: var(--fill-color);\n",
              "    }\n",
              "  }\n",
              "</style>\n",
              "\n",
              "  <script>\n",
              "    async function quickchart(key) {\n",
              "      const quickchartButtonEl =\n",
              "        document.querySelector('#' + key + ' button');\n",
              "      quickchartButtonEl.disabled = true;  // To prevent multiple clicks.\n",
              "      quickchartButtonEl.classList.add('colab-df-spinner');\n",
              "      try {\n",
              "        const charts = await google.colab.kernel.invokeFunction(\n",
              "            'suggestCharts', [key], {});\n",
              "      } catch (error) {\n",
              "        console.error('Error during call to suggestCharts:', error);\n",
              "      }\n",
              "      quickchartButtonEl.classList.remove('colab-df-spinner');\n",
              "      quickchartButtonEl.classList.add('colab-df-quickchart-complete');\n",
              "    }\n",
              "    (() => {\n",
              "      let quickchartButtonEl =\n",
              "        document.querySelector('#df-b4361eb6-19ce-416c-a7a3-a6d0cfb2b5a5 button');\n",
              "      quickchartButtonEl.style.display =\n",
              "        google.colab.kernel.accessAllowed ? 'block' : 'none';\n",
              "    })();\n",
              "  </script>\n",
              "</div>\n",
              "\n",
              "  <div id=\"id_b4f0c9ca-1981-4a0c-a406-446a0e571bc8\">\n",
              "    <style>\n",
              "      .colab-df-generate {\n",
              "        background-color: #E8F0FE;\n",
              "        border: none;\n",
              "        border-radius: 50%;\n",
              "        cursor: pointer;\n",
              "        display: none;\n",
              "        fill: #1967D2;\n",
              "        height: 32px;\n",
              "        padding: 0 0 0 0;\n",
              "        width: 32px;\n",
              "      }\n",
              "\n",
              "      .colab-df-generate:hover {\n",
              "        background-color: #E2EBFA;\n",
              "        box-shadow: 0px 1px 2px rgba(60, 64, 67, 0.3), 0px 1px 3px 1px rgba(60, 64, 67, 0.15);\n",
              "        fill: #174EA6;\n",
              "      }\n",
              "\n",
              "      [theme=dark] .colab-df-generate {\n",
              "        background-color: #3B4455;\n",
              "        fill: #D2E3FC;\n",
              "      }\n",
              "\n",
              "      [theme=dark] .colab-df-generate:hover {\n",
              "        background-color: #434B5C;\n",
              "        box-shadow: 0px 1px 3px 1px rgba(0, 0, 0, 0.15);\n",
              "        filter: drop-shadow(0px 1px 2px rgba(0, 0, 0, 0.3));\n",
              "        fill: #FFFFFF;\n",
              "      }\n",
              "    </style>\n",
              "    <button class=\"colab-df-generate\" onclick=\"generateWithVariable('clean_df')\"\n",
              "            title=\"Generate code using this dataframe.\"\n",
              "            style=\"display:none;\">\n",
              "\n",
              "  <svg xmlns=\"http://www.w3.org/2000/svg\" height=\"24px\"viewBox=\"0 0 24 24\"\n",
              "       width=\"24px\">\n",
              "    <path d=\"M7,19H8.4L18.45,9,17,7.55,7,17.6ZM5,21V16.75L18.45,3.32a2,2,0,0,1,2.83,0l1.4,1.43a1.91,1.91,0,0,1,.58,1.4,1.91,1.91,0,0,1-.58,1.4L9.25,21ZM18.45,9,17,7.55Zm-12,3A5.31,5.31,0,0,0,4.9,8.1,5.31,5.31,0,0,0,1,6.5,5.31,5.31,0,0,0,4.9,4.9,5.31,5.31,0,0,0,6.5,1,5.31,5.31,0,0,0,8.1,4.9,5.31,5.31,0,0,0,12,6.5,5.46,5.46,0,0,0,6.5,12Z\"/>\n",
              "  </svg>\n",
              "    </button>\n",
              "    <script>\n",
              "      (() => {\n",
              "      const buttonEl =\n",
              "        document.querySelector('#id_b4f0c9ca-1981-4a0c-a406-446a0e571bc8 button.colab-df-generate');\n",
              "      buttonEl.style.display =\n",
              "        google.colab.kernel.accessAllowed ? 'block' : 'none';\n",
              "\n",
              "      buttonEl.onclick = () => {\n",
              "        google.colab.notebook.generateWithVariable('clean_df');\n",
              "      }\n",
              "      })();\n",
              "    </script>\n",
              "  </div>\n",
              "\n",
              "    </div>\n",
              "  </div>\n"
            ],
            "application/vnd.google.colaboratory.intrinsic+json": {
              "type": "dataframe",
              "variable_name": "clean_df",
              "summary": "{\n  \"name\": \"clean_df\",\n  \"rows\": 11000,\n  \"fields\": [\n    {\n      \"column\": \"reviewId\",\n      \"properties\": {\n        \"dtype\": \"string\",\n        \"num_unique_values\": 11000,\n        \"samples\": [\n          \"4ade27be-b543-4a29-8d5a-91268fa7e4e3\",\n          \"1b6ad53f-85ae-465d-95cd-c1ea01e7df98\",\n          \"5de6a573-dcdf-4c6e-a4ac-1ee5a441da3d\"\n        ],\n        \"semantic_type\": \"\",\n        \"description\": \"\"\n      }\n    },\n    {\n      \"column\": \"userName\",\n      \"properties\": {\n        \"dtype\": \"category\",\n        \"num_unique_values\": 1995,\n        \"samples\": [\n          \"alvi syahrin\",\n          \"Angga Harwono\",\n          \"Raff Firmansyah\"\n        ],\n        \"semantic_type\": \"\",\n        \"description\": \"\"\n      }\n    },\n    {\n      \"column\": \"userImage\",\n      \"properties\": {\n        \"dtype\": \"category\",\n        \"num_unique_values\": 2001,\n        \"samples\": [\n          \"https://play-lh.googleusercontent.com/a-/ALV-UjWTkr84Lr0E1zuDXliDvNjzdnJ-hHidAm7ar_ujQkdFjoQcZFEZ\",\n          \"https://play-lh.googleusercontent.com/a/ACg8ocK_1w8YZp-2usShXUWFVwjNfCjsqM0vfDS0e-EC26J7H7eOsQ=mo\",\n          \"https://play-lh.googleusercontent.com/a-/ALV-UjWtLxuL9DcQpApCklRPYpsJwVG2Enb0LdeiX0Bhzor-wB4DmwU\"\n        ],\n        \"semantic_type\": \"\",\n        \"description\": \"\"\n      }\n    },\n    {\n      \"column\": \"score\",\n      \"properties\": {\n        \"dtype\": \"number\",\n        \"std\": 1,\n        \"min\": 1,\n        \"max\": 5,\n        \"num_unique_values\": 5,\n        \"samples\": [\n          3,\n          4,\n          1\n        ],\n        \"semantic_type\": \"\",\n        \"description\": \"\"\n      }\n    },\n    {\n      \"column\": \"content\",\n      \"properties\": {\n        \"dtype\": \"string\",\n        \"num_unique_values\": 10999,\n        \"samples\": [\n          \"Setelah gw main ni ini game, awalnya si seneng, cuman mangkin lama2 ini game pelit bgt, Whuatring waves fiturnya lebih banyak dan sangat2 tidak pelit, gameplay nya pun keren abis, ni game menang story doang\",\n          \"Alhamdulillah akhirnya kedownload juga gak nyangka yang bisa dibilang game berat tapi masih lancar main di hp saya yang speknya rendah, walau grafik tetep menyesuaikan tapi tetap nyaman dilihat...sejauh ini tidak ada kendala seperti patah patah atau yang lainnya semoga lancar terus hingga akhir aaminn\",\n          \"Mohon untuk pihak developer nya.tolong lah buatin genshin impact lite yang size nya 200mb dan datanya 1gb-an soalnya saya tidak pernah mainkan game ini,mohon di jawab saya sangat kecewa saat tadi saya baru menginstal game,saat di dalam game itu data nya lebih dari 1gb-an mohon untuk di jawab jangan pikirkan penghasilan nya saja pikirkan lah nasib orang yang ingin memainkan game ini karena kebanyakan orang itu penggunaa ponsel dengan ram kecil.salam terima kasih untuk kekecewaan ini \\ud83d\\ude2d\\ud83d\\ude2d\\ud83d\\ude2d\\ud83d\\ude2d\\ud83d\\ude2d\\ud83d\\ude2d\"\n        ],\n        \"semantic_type\": \"\",\n        \"description\": \"\"\n      }\n    },\n    {\n      \"column\": \"thumbsUpCount\",\n      \"properties\": {\n        \"dtype\": \"number\",\n        \"std\": 101,\n        \"min\": 0,\n        \"max\": 5493,\n        \"num_unique_values\": 351,\n        \"samples\": [\n          521,\n          387,\n          328\n        ],\n        \"semantic_type\": \"\",\n        \"description\": \"\"\n      }\n    },\n    {\n      \"column\": \"at\",\n      \"properties\": {\n        \"dtype\": \"object\",\n        \"num_unique_values\": 10999,\n        \"samples\": [\n          \"2024-06-13 15:50:54\",\n          \"2023-02-19 10:19:43\",\n          \"2022-03-07 12:48:09\"\n        ],\n        \"semantic_type\": \"\",\n        \"description\": \"\"\n      }\n    }\n  ]\n}"
            }
          },
          "metadata": {},
          "execution_count": 4
        }
      ],
      "source": [
        "clean_df = pd.read_csv('genshin_reviews.csv')\n",
        "clean_df"
      ]
    },
    {
      "cell_type": "code",
      "execution_count": 5,
      "metadata": {
        "id": "TtlMIZ74ePmi"
      },
      "outputs": [],
      "source": [
        "def cleaning(text):\n",
        "  text = re.sub(r'@[A-Za-z0-9]+', '', text)\n",
        "  text = re.sub(r'#[A-Za-z0-9]', '', text)\n",
        "  text = re.sub(r'RT[\\s]+', '', text)\n",
        "  text = re.sub(r'https?:\\/\\/\\S+', '', text)\n",
        "  text = re.sub(r'[0-9]+','', text)\n",
        "  text = re.sub(r'[^\\w\\s]','', text)\n",
        "  text = text.replace('\\n', '')\n",
        "  text = text.translate(str.maketrans('', '', string.punctuation))\n",
        "  text = text.strip(' ')\n",
        "  return text\n",
        "\n",
        "def casefolding(text):\n",
        "  text = text.lower()\n",
        "  return text\n",
        "\n",
        "def tokenization(text):\n",
        "  text = word_tokenize(text)\n",
        "  return text\n",
        "\n",
        "def filtering(text):\n",
        "  list_stopwords = set(stopwords.words('indonesian'))\n",
        "  list_stopwords1 = set(stopwords.words('english'))\n",
        "  list_stopwords.update(list_stopwords1)\n",
        "  list_stopwords.update([\"iya\",\"yaa\",\"gak\",\"nya\",\"na\",\"sih\",\"ku\",\"di\",\"ga\",\"ya\",\"gaa\",\"loh\",\"kah\",\"woi\",\"woii\",\"woy\"\n",
        "  \"aku\", \"anda\", \"adalah\", \"ada\", \"akan\", \"kami\", \"kita\", \"kepada\", \"dan\", \"dalam\",\n",
        "    \"dari\", \"dengan\", \"dia\", \"ini\", \"itu\", \"saya\", \"telah\", \"untuk\", \"yang\", \"di\", \"ke\",\n",
        "    \"pada\", \"oleh\", \"itu\", \"dengan\", \"sudah\", \"juga\", \"karena\", \"atau\", \"sebagai\",\n",
        "    \"bahwa\", \"namun\", \"bisa\", \"mereka\", \"tentang\", \"sesuatu\", \"oleh\", \"jadi\", \"lebih\",\n",
        "    \"akan\", \"tidak\", \"lagi\", \"setelah\", \"banyak\", \"hanya\", \"pada\", \"tersebut\",\n",
        "    \"dalam\", \"tetapi\", \"dan\", \"sudah\", \"adalah\", \"itu\", \"sekarang\", \"saja\", \"sudah\",\n",
        "    \"kalau\", \"semua\", \"akan\", \"masih\", \"harus\", \"di\", \"pada\", \"dengan\",\"gua\",\"gw\", \"lu\", \"loe\", \"oe\", \"gue\",\"aja\",\"emang\",\"udah\",\n",
        "    \"si\",\"gitu\",\"ni\",\"kek\"])\n",
        "  filtered_text = []\n",
        "  for word in text:\n",
        "    if word not in list_stopwords:\n",
        "      filtered_text.append(word)\n",
        "  text = filtered_text\n",
        "  return text\n",
        "\n",
        "def stemming(text):\n",
        "  factory = StemmerFactory()\n",
        "  stemmer = factory.create_stemmer()\n",
        "  words = text\n",
        "  words = [stemmer.stem(word) for word in words]\n",
        "  text = ' '.join(words)\n",
        "  return text\n",
        "\n",
        "def toSentence(list_words):\n",
        "  sentence = ' '.join(list_words)\n",
        "  return sentence"
      ]
    },
    {
      "cell_type": "code",
      "execution_count": 6,
      "metadata": {
        "id": "P6G9XKx1hNCL"
      },
      "outputs": [],
      "source": [
        "slangwords = {\"gk\": \"tidak\", \"ga\": \"tidak\", \"gak\": \"tidak\", \"lg\": \"lagi\", \"yg\": \"yang\", \"dr\": \"dari\", \"km\": \"kamu\",\n",
        "    \"gw\": \"saya\", \"gue\": \"saya\", \"gu\": \"saya\", \"lo\": \"kamu\", \"lu\": \"kamu\", \"dgn\": \"dengan\", \"tp\": \"tapi\", \"tpi\": \"tapi\",\n",
        "    \"bgt\": \"banget\", \"trs\": \"terus\", \"blm\": \"belum\", \"skrg\": \"sekarang\", \"bbrp\": \"beberapa\", \"kalo\": \"kalau\",\n",
        "    \"kl\": \"kalau\", \"ngga\": \"tidak\", \"nggak\": \"tidak\", \"ttp\": \"tetap\", \"pdhl\": \"padahal\", \"msh\": \"masih\", \"sbg\": \"sebagai\",\n",
        "    \"@\": \"di\", \"abis\": \"habis\", \"wtb\": \"beli\", \"masi\": \"masih\", \"wts\": \"jual\", \"wtt\": \"tukar\", \"bgt\": \"banget\", \"maks\": \"maksimal\",\n",
        "    \"@\": \"di\",\"abis\": \"habis\",\"wtb\": \"beli\",\"masi\": \"masih\",\"wts\": \"jual\",\"wtt\": \"tukar\",\"bgt\": \"banget\",\"maks\": \"maksimal\",\"tp\": \"tapi\",\"ngga\": \"tidak\",}\n",
        "def fix_slang(text):\n",
        "  words = text.split()\n",
        "  fixed_words = []\n",
        "  for word in words:\n",
        "    if word.lower() in slangwords:\n",
        "      fixed_words.append(slangwords[word.lower()])\n",
        "    else:\n",
        "      fixed_words.append(word)\n",
        "\n",
        "  fixed_text = ' '.join(fixed_words)\n",
        "  return fixed_text"
      ]
    },
    {
      "cell_type": "code",
      "execution_count": 7,
      "metadata": {
        "id": "uquV_CFwiAhc"
      },
      "outputs": [],
      "source": [
        "clean_df['text_clean'] = clean_df['content'].apply(cleaning)\n",
        "clean_df['text_casefolding'] = clean_df['text_clean'].apply(casefolding)\n",
        "clean_df['text_slangwords'] = clean_df['text_casefolding'].apply(fix_slang)\n",
        "clean_df['text_tokenization'] = clean_df['text_slangwords'].apply(tokenization)\n",
        "clean_df['text_filtering'] = clean_df['text_tokenization'].apply(filtering)\n",
        "clean_df['text_akhir'] = clean_df['text_filtering'].apply(toSentence)"
      ]
    },
    {
      "cell_type": "code",
      "execution_count": 8,
      "metadata": {
        "id": "o6YfWpPf344h"
      },
      "outputs": [],
      "source": [
        "import requests\n",
        "\n",
        "from io import StringIO\n",
        "\n",
        "lexicon_positive = dict()\n",
        "response = requests.get('https://raw.githubusercontent.com/angelmetanosaa/dataset/main/lexicon_positive.csv')\n",
        "\n",
        "if response.status_code == 200:\n",
        "    reader = csv.reader(StringIO(response.text), delimiter=',')\n",
        "    for row in reader:\n",
        "        lexicon_positive[row[0]] = int(row[1])\n",
        "else:\n",
        "    print(\"Failed to fetch positive lexicon data\")\n",
        "\n",
        "\n",
        "lexicon_negative = dict()\n",
        "response = requests.get('https://raw.githubusercontent.com/angelmetanosaa/dataset/main/lexicon_negative.csv')\n",
        "if response.status_code == 200:\n",
        "    reader = csv.reader(StringIO(response.text), delimiter=',')\n",
        "    for row in reader:\n",
        "        lexicon_negative[row[0]] = int(row[1])\n",
        "else:\n",
        "    print(\"Failed to fetch negative lexicon data\")"
      ]
    },
    {
      "cell_type": "code",
      "execution_count": 9,
      "metadata": {
        "id": "H_2tceBV5IkB"
      },
      "outputs": [],
      "source": [
        "def sentiment_analysis_lexicon_indonesia(text):\n",
        "\n",
        "    score = 0\n",
        "\n",
        "    for word in text:\n",
        "        if (word in lexicon_positive):\n",
        "            score = score + lexicon_positive[word]\n",
        "\n",
        "    for word in text:\n",
        "        if (word in lexicon_negative):\n",
        "            score = score + lexicon_negative[word]\n",
        "\n",
        "    polarity=''\n",
        "\n",
        "    if (score > 0):\n",
        "        polarity = 'positive'\n",
        "    elif (score < 0):\n",
        "        polarity = 'negative'\n",
        "    else:\n",
        "        polarity = 'neutral'\n",
        "\n",
        "    return score, polarity"
      ]
    },
    {
      "cell_type": "code",
      "execution_count": 10,
      "metadata": {
        "colab": {
          "base_uri": "https://localhost:8080/"
        },
        "id": "_oz5JzeM5gKh",
        "outputId": "3fb3e30b-826e-483d-a7ae-63415d507ad3"
      },
      "outputs": [
        {
          "output_type": "stream",
          "name": "stdout",
          "text": [
            "polarity\n",
            "negative    5327\n",
            "positive    5042\n",
            "neutral      631\n",
            "Name: count, dtype: int64\n"
          ]
        }
      ],
      "source": [
        "results = clean_df['text_filtering'].apply(sentiment_analysis_lexicon_indonesia)\n",
        "results = list(zip(*results))\n",
        "clean_df['polarity_score'] = results[0]\n",
        "clean_df['polarity'] = results[1]\n",
        "print(clean_df['polarity'].value_counts())"
      ]
    },
    {
      "cell_type": "code",
      "execution_count": 11,
      "metadata": {
        "colab": {
          "base_uri": "https://localhost:8080/",
          "height": 623
        },
        "id": "9McjybHQ6RkP",
        "outputId": "500ec060-a015-4099-f4ee-24d3bb7b79ca"
      },
      "outputs": [
        {
          "output_type": "display_data",
          "data": {
            "text/plain": [
              "<Figure size 800x800 with 1 Axes>"
            ],
            "image/png": "[encoded data removed]"
          },
          "metadata": {}
        }
      ],
      "source": [
        "plt.figure(figsize=(8, 8))\n",
        "plt.pie(clean_df['polarity'].value_counts(), labels=clean_df['polarity'].value_counts().index, autopct='%1.1f%%')\n",
        "plt.title('Polaritas Sentimen')\n",
        "plt.axis('equal')\n",
        "plt.show()"
      ]
    },
    {
      "cell_type": "code",
      "source": [
        "from sklearn.utils import resample\n",
        "\n",
        "df_positive = clean_df[clean_df['polarity'] == 'positive']\n",
        "df_negative = clean_df[clean_df['polarity'] == 'negative']\n",
        "df_neutral = clean_df[clean_df['polarity'] == 'neutral']\n",
        "\n",
        "df_neutral_oversampled = resample(df_neutral,\n",
        "                                  replace=True,\n",
        "                                  n_samples=len(df_negative),\n",
        "                                  random_state=32)\n",
        "\n",
        "df_oversampled = pd.concat([df_negative, df_positive, df_neutral_oversampled])\n",
        "print(df_oversampled['polarity'].value_counts())"
      ],
      "metadata": {
        "colab": {
          "base_uri": "https://localhost:8080/"
        },
        "id": "mqHqEIWmmRrz",
        "outputId": "6824ce75-a1df-4a1e-99b8-3f3521c0a8b8"
      },
      "execution_count": 12,
      "outputs": [
        {
          "output_type": "stream",
          "name": "stdout",
          "text": [
            "polarity\n",
            "negative    5327\n",
            "neutral     5327\n",
            "positive    5042\n",
            "Name: count, dtype: int64\n"
          ]
        }
      ]
    },
    {
      "cell_type": "code",
      "source": [
        "plt.figure(figsize=(8, 8))\n",
        "plt.pie(df_oversampled['polarity'].value_counts(), labels=df_oversampled['polarity'].value_counts().index, autopct='%1.1f%%')\n",
        "plt.title('Polaritas Sentimen')\n",
        "plt.axis('equal')\n",
        "plt.show()"
      ],
      "metadata": {
        "colab": {
          "base_uri": "https://localhost:8080/",
          "height": 618
        },
        "id": "fBjBCJg1mUBh",
        "outputId": "8cf82185-45d5-4057-d38f-f1a1a1b74975"
      },
      "execution_count": 13,
      "outputs": [
        {
          "output_type": "display_data",
          "data": {
            "text/plain": [
              "<Figure size 800x800 with 1 Axes>"
            ],
            "image/png": "[encoded data removed]"
          },
          "metadata": {}
        }
      ]
    },
    {
      "cell_type": "code",
      "source": [
        "df_oversampled.to_csv('df_oversampled.csv', index=False)"
      ],
      "metadata": {
        "id": "ZY_mTPm3MD0O"
      },
      "execution_count": 14,
      "outputs": []
    },
    {
      "cell_type": "markdown",
      "source": [
        "# Algoritma Machine Learning Tradisional"
      ],
      "metadata": {
        "id": "SL7M7gB610xq"
      }
    },
    {
      "cell_type": "markdown",
      "source": [
        "Menggunakan algortima machine learning Logistic Regression dan eksraksi fitur TfidVectorizer. Membagi dataset 70:30. Dengan pelatihan ini saya mendapatkan akurasi 87% sesuai kriteria, tetapi tidak sampai lebih dari 92%  "
      ],
      "metadata": {
        "id": "xqxCxJ_mBCrU"
      }
    },
    {
      "cell_type": "code",
      "source": [
        "from sklearn.feature_extraction.text import TfidfVectorizer\n",
        "from sklearn.preprocessing import StandardScaler\n",
        "from sklearn.model_selection import train_test_split\n",
        "from sklearn.linear_model import LogisticRegression\n",
        "from sklearn.metrics import accuracy_score, classification_report"
      ],
      "metadata": {
        "id": "ID3-w1QW17N8"
      },
      "execution_count": 83,
      "outputs": []
    },
    {
      "cell_type": "code",
      "source": [
        "x = df_oversampled['text_akhir']\n",
        "y = df_oversampled['polarity']\n",
        "\n",
        "tfidf = TfidfVectorizer(max_features=20000, min_df=17, max_df=0.8, ngram_range=(1, 2))\n",
        "x_tfidf = tfidf.fit_transform(x)\n",
        "\n",
        "features_df = pd.DataFrame(x_tfidf.toarray(), columns=tfidf.get_feature_names_out())\n",
        "\n",
        "x_train, x_test, y_train, y_test = train_test_split(x_tfidf, y, test_size=0.3, random_state=42)"
      ],
      "metadata": {
        "id": "oCOnSB_K3OuD"
      },
      "execution_count": 82,
      "outputs": []
    },
    {
      "cell_type": "code",
      "source": [
        "scaler = StandardScaler(with_mean=False)\n",
        "x_train_scaled = scaler.fit_transform(x_train)\n",
        "x_test_scaled = scaler.transform(x_test)"
      ],
      "metadata": {
        "id": "7wX1p5hXMm9u"
      },
      "execution_count": 84,
      "outputs": []
    },
    {
      "cell_type": "code",
      "source": [
        "model_lr = LogisticRegression(C=10,max_iter=5000, solver='saga')\n",
        "model_lr.fit(x_train.toarray(), y_train)"
      ],
      "metadata": {
        "colab": {
          "base_uri": "https://localhost:8080/",
          "height": 75
        },
        "id": "G-J6ZRbn3TM6",
        "outputId": "8f323a34-137a-43c8-b010-5349eb1c580e"
      },
      "execution_count": 91,
      "outputs": [
        {
          "output_type": "execute_result",
          "data": {
            "text/plain": [
              "LogisticRegression(C=10, max_iter=5000, solver='saga')"
            ],
            "text/html": [
              "<style>#sk-container-id-19 {color: black;background-color: white;}#sk-container-id-19 pre{padding: 0;}#sk-container-id-19 div.sk-toggleable {background-color: white;}#sk-container-id-19 label.sk-toggleable__label {cursor: pointer;display: block;width: 100%;margin-bottom: 0;padding: 0.3em;box-sizing: border-box;text-align: center;}#sk-container-id-19 label.sk-toggleable__label-arrow:before {content: \"▸\";float: left;margin-right: 0.25em;color: #696969;}#sk-container-id-19 label.sk-toggleable__label-arrow:hover:before {color: black;}#sk-container-id-19 div.sk-estimator:hover label.sk-toggleable__label-arrow:before {color: black;}#sk-container-id-19 div.sk-toggleable__content {max-height: 0;max-width: 0;overflow: hidden;text-align: left;background-color: #f0f8ff;}#sk-container-id-19 div.sk-toggleable__content pre {margin: 0.2em;color: black;border-radius: 0.25em;background-color: #f0f8ff;}#sk-container-id-19 input.sk-toggleable__control:checked~div.sk-toggleable__content {max-height: 200px;max-width: 100%;overflow: auto;}#sk-container-id-19 input.sk-toggleable__control:checked~label.sk-toggleable__label-arrow:before {content: \"▾\";}#sk-container-id-19 div.sk-estimator input.sk-toggleable__control:checked~label.sk-toggleable__label {background-color: #d4ebff;}#sk-container-id-19 div.sk-label input.sk-toggleable__control:checked~label.sk-toggleable__label {background-color: #d4ebff;}#sk-container-id-19 input.sk-hidden--visually {border: 0;clip: rect(1px 1px 1px 1px);clip: rect(1px, 1px, 1px, 1px);height: 1px;margin: -1px;overflow: hidden;padding: 0;position: absolute;width: 1px;}#sk-container-id-19 div.sk-estimator {font-family: monospace;background-color: #f0f8ff;border: 1px dotted black;border-radius: 0.25em;box-sizing: border-box;margin-bottom: 0.5em;}#sk-container-id-19 div.sk-estimator:hover {background-color: #d4ebff;}#sk-container-id-19 div.sk-parallel-item::after {content: \"\";width: 100%;border-bottom: 1px solid gray;flex-grow: 1;}#sk-container-id-19 div.sk-label:hover label.sk-toggleable__label {background-color: #d4ebff;}#sk-container-id-19 div.sk-serial::before {content: \"\";position: absolute;border-left: 1px solid gray;box-sizing: border-box;top: 0;bottom: 0;left: 50%;z-index: 0;}#sk-container-id-19 div.sk-serial {display: flex;flex-direction: column;align-items: center;background-color: white;padding-right: 0.2em;padding-left: 0.2em;position: relative;}#sk-container-id-19 div.sk-item {position: relative;z-index: 1;}#sk-container-id-19 div.sk-parallel {display: flex;align-items: stretch;justify-content: center;background-color: white;position: relative;}#sk-container-id-19 div.sk-item::before, #sk-container-id-19 div.sk-parallel-item::before {content: \"\";position: absolute;border-left: 1px solid gray;box-sizing: border-box;top: 0;bottom: 0;left: 50%;z-index: -1;}#sk-container-id-19 div.sk-parallel-item {display: flex;flex-direction: column;z-index: 1;position: relative;background-color: white;}#sk-container-id-19 div.sk-parallel-item:first-child::after {align-self: flex-end;width: 50%;}#sk-container-id-19 div.sk-parallel-item:last-child::after {align-self: flex-start;width: 50%;}#sk-container-id-19 div.sk-parallel-item:only-child::after {width: 0;}#sk-container-id-19 div.sk-dashed-wrapped {border: 1px dashed gray;margin: 0 0.4em 0.5em 0.4em;box-sizing: border-box;padding-bottom: 0.4em;background-color: white;}#sk-container-id-19 div.sk-label label {font-family: monospace;font-weight: bold;display: inline-block;line-height: 1.2em;}#sk-container-id-19 div.sk-label-container {text-align: center;}#sk-container-id-19 div.sk-container {/* jupyter's `normalize.less` sets `[hidden] { display: none; }` but bootstrap.min.css set `[hidden] { display: none !important; }` so we also need the `!important` here to be able to override the default hidden behavior on the sphinx rendered scikit-learn.org. See: https://github.com/scikit-learn/scikit-learn/issues/21755 */display: inline-block !important;position: relative;}#sk-container-id-19 div.sk-text-repr-fallback {display: none;}</style><div id=\"sk-container-id-19\" class=\"sk-top-container\"><div class=\"sk-text-repr-fallback\"><pre>LogisticRegression(C=10, max_iter=5000, solver=&#x27;saga&#x27;)</pre><b>In a Jupyter environment, please rerun this cell to show the HTML representation or trust the notebook. <br />On GitHub, the HTML representation is unable to render, please try loading this page with nbviewer.org.</b></div><div class=\"sk-container\" hidden><div class=\"sk-item\"><div class=\"sk-estimator sk-toggleable\"><input class=\"sk-toggleable__control sk-hidden--visually\" id=\"sk-estimator-id-21\" type=\"checkbox\" checked><label for=\"sk-estimator-id-21\" class=\"sk-toggleable__label sk-toggleable__label-arrow\">LogisticRegression</label><div class=\"sk-toggleable__content\"><pre>LogisticRegression(C=10, max_iter=5000, solver=&#x27;saga&#x27;)</pre></div></div></div></div></div>"
            ]
          },
          "metadata": {},
          "execution_count": 91
        }
      ]
    },
    {
      "cell_type": "code",
      "source": [
        "y_pred_train = model_lr.predict(x_train.toarray())\n",
        "y_pred_test = model_lr.predict(x_test.toarray())\n",
        "\n",
        "accuracy_train = accuracy_score(y_train, y_pred_train)\n",
        "accuracy_test = accuracy_score(y_test, y_pred_test)\n",
        "\n",
        "print(f\"Accuracy train: {accuracy_train}\")\n",
        "print(f\"Accuracy test: {accuracy_test}\")\n",
        "print(classification_report(y_test, y_pred_test))"
      ],
      "metadata": {
        "colab": {
          "base_uri": "https://localhost:8080/"
        },
        "id": "SJUAQDuk3Uhs",
        "outputId": "01030c3a-76d0-453e-da57-c84b8cce73ee"
      },
      "execution_count": 92,
      "outputs": [
        {
          "output_type": "stream",
          "name": "stdout",
          "text": [
            "Accuracy train: 0.9874397014653682\n",
            "Accuracy test: 0.8721596942025908\n",
            "              precision    recall  f1-score   support\n",
            "\n",
            "    negative       0.88      0.82      0.85      1609\n",
            "     neutral       0.85      0.99      0.92      1547\n",
            "    positive       0.88      0.80      0.84      1553\n",
            "\n",
            "    accuracy                           0.87      4709\n",
            "   macro avg       0.87      0.87      0.87      4709\n",
            "weighted avg       0.87      0.87      0.87      4709\n",
            "\n"
          ]
        }
      ]
    },
    {
      "cell_type": "markdown",
      "source": [
        "# Model Deep learnig"
      ],
      "metadata": {
        "id": "hI4oMiucmNtQ"
      }
    },
    {
      "cell_type": "markdown",
      "source": [
        "Melakukan pelatihan menggunakan Model Deep learning untuk mendapatkan akurasi 92%. Untuk ini kita hanya menggunakan model CNN dan GRU"
      ],
      "metadata": {
        "id": "uRKiP_WKZjse"
      }
    },
    {
      "cell_type": "markdown",
      "source": [
        "## Model GRU\n"
      ],
      "metadata": {
        "id": "eXg7Nz3WmSzH"
      }
    },
    {
      "cell_type": "markdown",
      "source": [
        "Pada pelatihan ini menggunakan Model GRU dan mendapatkan akurasi yang lumayan tinggi yaitu 88%, tetapi masih tidak sesuai harapan."
      ],
      "metadata": {
        "id": "EZF8XenJAw81"
      }
    },
    {
      "cell_type": "code",
      "source": [
        "import tensorflow as tf\n",
        "from sklearn.preprocessing import LabelEncoder\n",
        "from sklearn.model_selection import train_test_split\n",
        "from tensorflow.keras.preprocessing.text import Tokenizer\n",
        "from tensorflow.keras.preprocessing.sequence import pad_sequences\n",
        "from tensorflow.keras.utils import to_categorical\n",
        "from tensorflow.keras.models import Sequential\n",
        "from tensorflow.keras.layers import Embedding, GRU, Dense, Dropout, Bidirectional, BatchNormalization\n",
        "from tensorflow.keras.regularizers import l2\n",
        "from tensorflow.keras.callbacks import ReduceLROnPlateau, ModelCheckpoint"
      ],
      "metadata": {
        "id": "a-wE2RDDmeUw"
      },
      "execution_count": null,
      "outputs": []
    },
    {
      "cell_type": "code",
      "source": [
        "tokenizer = Tokenizer(num_words=10000)\n",
        "tokenizer.fit_on_texts(df_oversampled['text_akhir'])\n",
        "sequences = tokenizer.texts_to_sequences(df_oversampled['text_akhir'])\n",
        "\n",
        "padded_sequences = pad_sequences(sequences, maxlen=100, padding='post')"
      ],
      "metadata": {
        "id": "EGuPqNDjr3z4"
      },
      "execution_count": null,
      "outputs": []
    },
    {
      "cell_type": "code",
      "source": [
        "label_encoder = LabelEncoder()\n",
        "labels = label_encoder.fit_transform(df_oversampled['polarity'])\n",
        "categorical_labels = to_categorical(labels)\n",
        "x_train, x_test, y_train, y_test = train_test_split(padded_sequences, categorical_labels, test_size=0.2, random_state=42)"
      ],
      "metadata": {
        "id": "wpjExq9HobTL"
      },
      "execution_count": null,
      "outputs": []
    },
    {
      "cell_type": "code",
      "source": [
        "model_GRU = Sequential([\n",
        "    Embedding(input_dim=len(tokenizer.word_index)+1, output_dim=128, input_length=100),\n",
        "    Bidirectional(GRU(64, return_sequences=True, dropout=0.5, recurrent_dropout=0.5)),\n",
        "    BatchNormalization(),\n",
        "    Bidirectional(GRU(64, dropout=0.5, recurrent_dropout=0.5)),\n",
        "    BatchNormalization(),\n",
        "    Dense(128, activation='relu', kernel_regularizer=l2(0.01)),\n",
        "    Dropout(0.5),\n",
        "    BatchNormalization(),\n",
        "    Dense(64, activation='relu', kernel_regularizer=l2(0.01)),\n",
        "    Dropout(0.5),\n",
        "    Dense(3, activation='softmax'),\n",
        "])"
      ],
      "metadata": {
        "id": "T3_qDTYHmhHY",
        "colab": {
          "base_uri": "https://localhost:8080/"
        },
        "outputId": "73ea78c1-3142-4051-e22d-c6a7f20dd3cf"
      },
      "execution_count": null,
      "outputs": [
        {
          "output_type": "stream",
          "name": "stderr",
          "text": [
            "WARNING:tensorflow:Layer gru will not use cuDNN kernels since it doesn't meet the criteria. It will use a generic GPU kernel as fallback when running on GPU.\n",
            "WARNING:tensorflow:Layer gru will not use cuDNN kernels since it doesn't meet the criteria. It will use a generic GPU kernel as fallback when running on GPU.\n",
            "WARNING:tensorflow:Layer gru will not use cuDNN kernels since it doesn't meet the criteria. It will use a generic GPU kernel as fallback when running on GPU.\n",
            "WARNING:tensorflow:Layer gru_1 will not use cuDNN kernels since it doesn't meet the criteria. It will use a generic GPU kernel as fallback when running on GPU.\n",
            "WARNING:tensorflow:Layer gru_1 will not use cuDNN kernels since it doesn't meet the criteria. It will use a generic GPU kernel as fallback when running on GPU.\n",
            "WARNING:tensorflow:Layer gru_1 will not use cuDNN kernels since it doesn't meet the criteria. It will use a generic GPU kernel as fallback when running on GPU.\n"
          ]
        }
      ]
    },
    {
      "cell_type": "code",
      "source": [
        "model_GRU.summary()"
      ],
      "metadata": {
        "colab": {
          "base_uri": "https://localhost:8080/"
        },
        "id": "YMH4eSc7oIWi",
        "outputId": "1d629921-10f5-4aae-ca09-296ad56b1973"
      },
      "execution_count": null,
      "outputs": [
        {
          "output_type": "stream",
          "name": "stdout",
          "text": [
            "Model: \"sequential_1\"\n",
            "_________________________________________________________________\n",
            " Layer (type)                Output Shape              Param #   \n",
            "=================================================================\n",
            " embedding (Embedding)       (None, 100, 128)          2729088   \n",
            "                                                                 \n",
            " bidirectional (Bidirection  (None, 100, 128)          74496     \n",
            " al)                                                             \n",
            "                                                                 \n",
            " batch_normalization_4 (Bat  (None, 100, 128)          512       \n",
            " chNormalization)                                                \n",
            "                                                                 \n",
            " bidirectional_1 (Bidirecti  (None, 128)               74496     \n",
            " onal)                                                           \n",
            "                                                                 \n",
            " batch_normalization_5 (Bat  (None, 128)               512       \n",
            " chNormalization)                                                \n",
            "                                                                 \n",
            " dense_3 (Dense)             (None, 128)               16512     \n",
            "                                                                 \n",
            " dropout_2 (Dropout)         (None, 128)               0         \n",
            "                                                                 \n",
            " batch_normalization_6 (Bat  (None, 128)               512       \n",
            " chNormalization)                                                \n",
            "                                                                 \n",
            " dense_4 (Dense)             (None, 64)                8256      \n",
            "                                                                 \n",
            " dropout_3 (Dropout)         (None, 64)                0         \n",
            "                                                                 \n",
            " dense_5 (Dense)             (None, 3)                 195       \n",
            "                                                                 \n",
            "=================================================================\n",
            "Total params: 2904579 (11.08 MB)\n",
            "Trainable params: 2903811 (11.08 MB)\n",
            "Non-trainable params: 768 (3.00 KB)\n",
            "_________________________________________________________________\n"
          ]
        }
      ]
    },
    {
      "cell_type": "code",
      "source": [
        "model_GRU.compile(\n",
        "    optimizer='adam',\n",
        "    loss='categorical_crossentropy',\n",
        "    metrics=['accuracy']\n",
        ")"
      ],
      "metadata": {
        "id": "QM4OhfYluqk8"
      },
      "execution_count": null,
      "outputs": []
    },
    {
      "cell_type": "code",
      "source": [
        "class CustomCallback(tf.keras.callbacks.Callback):\n",
        "    def on_epoch_end(self, epoch, logs={}):\n",
        "        if logs.get('accuracy') > 0.92 and logs.get('val_accuracy') > 0.92:\n",
        "            print(\"\\nLatihannya Sudah Cukup ya!\")\n",
        "            self.model.stop_training = True\n",
        "\n",
        "custom_callback = CustomCallback()\n",
        "model_checkpoint = ModelCheckpoint('best_model_GRU.h5', monitor='val_loss', save_best_only=True)\n",
        "reduce_lr = ReduceLROnPlateau(monitor='val_loss', factor=0.2, patience=3, min_lr=0.001)"
      ],
      "metadata": {
        "id": "E1v93nggxhqE"
      },
      "execution_count": null,
      "outputs": []
    },
    {
      "cell_type": "code",
      "source": [
        "history = model_GRU.fit(\n",
        "        x_train,\n",
        "        y_train,\n",
        "        epochs=10,\n",
        "        batch_size=128,\n",
        "        validation_data=(x_test, y_test),\n",
        "        callbacks=[custom_callback, reduce_lr, model_checkpoint]\n",
        "  )"
      ],
      "metadata": {
        "colab": {
          "base_uri": "https://localhost:8080/"
        },
        "id": "w1T2D8nJvOYj",
        "outputId": "c09d8752-01e5-4f1a-e01c-15c0d41d2594"
      },
      "execution_count": null,
      "outputs": [
        {
          "output_type": "stream",
          "name": "stdout",
          "text": [
            "Epoch 1/10\n",
            "99/99 [==============================] - 162s 1s/step - loss: 3.1231 - accuracy: 0.3488 - val_loss: 2.4888 - val_accuracy: 0.3436 - lr: 0.0010\n",
            "Epoch 2/10\n"
          ]
        },
        {
          "output_type": "stream",
          "name": "stderr",
          "text": [
            "/usr/local/lib/python3.10/dist-packages/keras/src/engine/training.py:3103: UserWarning: You are saving your model as an HDF5 file via `model.save()`. This file format is considered legacy. We recommend using instead the native Keras format, e.g. `model.save('my_model.keras')`.\n",
            "  saving_api.save_model(\n"
          ]
        },
        {
          "output_type": "stream",
          "name": "stdout",
          "text": [
            "99/99 [==============================] - 162s 2s/step - loss: 2.2402 - accuracy: 0.4035 - val_loss: 1.9566 - val_accuracy: 0.3248 - lr: 0.0010\n",
            "Epoch 3/10\n",
            "99/99 [==============================] - 135s 1s/step - loss: 1.5863 - accuracy: 0.5778 - val_loss: 1.4387 - val_accuracy: 0.5404 - lr: 0.0010\n",
            "Epoch 4/10\n",
            "99/99 [==============================] - 145s 1s/step - loss: 0.9413 - accuracy: 0.8115 - val_loss: 0.8828 - val_accuracy: 0.7876 - lr: 0.0010\n",
            "Epoch 5/10\n",
            "99/99 [==============================] - 132s 1s/step - loss: 0.5431 - accuracy: 0.9083 - val_loss: 0.6507 - val_accuracy: 0.8449 - lr: 0.0010\n",
            "Epoch 6/10\n",
            "99/99 [==============================] - 125s 1s/step - loss: 0.3499 - accuracy: 0.9426 - val_loss: 0.5338 - val_accuracy: 0.8659 - lr: 0.0010\n",
            "Epoch 7/10\n",
            "99/99 [==============================] - 129s 1s/step - loss: 0.2405 - accuracy: 0.9579 - val_loss: 0.5226 - val_accuracy: 0.8726 - lr: 0.0010\n",
            "Epoch 8/10\n",
            "99/99 [==============================] - 127s 1s/step - loss: 0.1908 - accuracy: 0.9630 - val_loss: 0.5419 - val_accuracy: 0.8525 - lr: 0.0010\n",
            "Epoch 9/10\n",
            "99/99 [==============================] - 124s 1s/step - loss: 0.1461 - accuracy: 0.9728 - val_loss: 0.5960 - val_accuracy: 0.8554 - lr: 0.0010\n",
            "Epoch 10/10\n",
            "99/99 [==============================] - 142s 1s/step - loss: 0.1180 - accuracy: 0.9793 - val_loss: 0.4781 - val_accuracy: 0.8809 - lr: 0.0010\n"
          ]
        }
      ]
    },
    {
      "cell_type": "code",
      "source": [
        "plt.figure(figsize=(12, 4))\n",
        "\n",
        "plt.subplot(1, 2, 1)\n",
        "plt.plot(history.history['loss'], label='Train Loss')\n",
        "plt.plot(history.history['val_loss'], label='Validation Loss')\n",
        "plt.title('Train and Validation Loss')\n",
        "plt.xlabel('Epochs')\n",
        "plt.ylabel('Loss')\n",
        "plt.legend()\n",
        "\n",
        "plt.subplot(1, 2, 2)\n",
        "plt.plot(history_cnn.history['accuracy'], label='Train Accuracy')\n",
        "plt.plot(history_cnn.history['val_accuracy'], label='Validation Accuracy')\n",
        "plt.title('Train and Validation Accuracy')\n",
        "plt.xlabel('Epochs')\n",
        "plt.ylabel('Accuracy')\n",
        "plt.legend()\n",
        "\n",
        "plt.show()"
      ],
      "metadata": {
        "colab": {
          "base_uri": "https://localhost:8080/",
          "height": 410
        },
        "id": "vVCVbasF7eC9",
        "outputId": "71b64fe1-9d4d-42bb-887b-93f47e7c1526"
      },
      "execution_count": null,
      "outputs": [
        {
          "output_type": "display_data",
          "data": {
            "text/plain": [
              "<Figure size 1200x400 with 2 Axes>"
            ],
            "image/png": "[encoded data removed]"
          },
          "metadata": {}
        }
      ]
    },
    {
      "cell_type": "code",
      "source": [
        "loss, accuracy = model_GRU.evaluate(x_test, y_test)\n",
        "print(f\"Test Loss: {loss}\")\n",
        "print(f\"Test accuracy: {accuracy}\")"
      ],
      "metadata": {
        "colab": {
          "base_uri": "https://localhost:8080/"
        },
        "id": "aqB8mJAEmJl1",
        "outputId": "eccb8f05-9a8a-4082-9cd2-f2afc2fb2dea"
      },
      "execution_count": null,
      "outputs": [
        {
          "output_type": "stream",
          "name": "stdout",
          "text": [
            "99/99 [==============================] - 13s 129ms/step - loss: 0.4781 - accuracy: 0.8809\n",
            "Test Loss: 0.47806668281555176\n",
            "Test accuracy: 0.880891740322113\n"
          ]
        }
      ]
    },
    {
      "cell_type": "code",
      "source": [
        "from sklearn.metrics import classification_report\n",
        "import numpy as np\n",
        "\n",
        "y_pred = model_GRU.predict(x_test)\n",
        "y_pred_classes = np.argmax(y_pred, axis=1)\n",
        "y_true = np.argmax(y_test, axis=1)\n",
        "\n",
        "print(classification_report(y_true, y_pred_classes, target_names=label_encoder.classes_))"
      ],
      "metadata": {
        "colab": {
          "base_uri": "https://localhost:8080/"
        },
        "id": "UqUyQNKLmK5L",
        "outputId": "a7129364-46e2-407c-a93a-1ee9904a8d3b"
      },
      "execution_count": null,
      "outputs": [
        {
          "output_type": "stream",
          "name": "stdout",
          "text": [
            "99/99 [==============================] - 14s 123ms/step\n",
            "              precision    recall  f1-score   support\n",
            "\n",
            "    negative       0.84      0.87      0.85      1058\n",
            "     neutral       0.91      1.00      0.95      1008\n",
            "    positive       0.89      0.79      0.83      1074\n",
            "\n",
            "    accuracy                           0.88      3140\n",
            "   macro avg       0.88      0.88      0.88      3140\n",
            "weighted avg       0.88      0.88      0.88      3140\n",
            "\n"
          ]
        }
      ]
    },
    {
      "cell_type": "markdown",
      "source": [
        "## Model CNN"
      ],
      "metadata": {
        "id": "l_f53iahmXUn"
      }
    },
    {
      "cell_type": "markdown",
      "source": [
        "Pada percobaan latihan menggunakan model CNN akhirnya mendapatkan akurasi yang tinggi yaitu lebih dari 92%. Untuk model ini akan dilakukan testing atau inference."
      ],
      "metadata": {
        "id": "6OOk4tu2AjF5"
      }
    },
    {
      "cell_type": "code",
      "source": [
        "import tensorflow as tf\n",
        "import numpy as np\n",
        "\n",
        "from sklearn.model_selection import train_test_split\n",
        "from sklearn.feature_extraction.text import TfidfVectorizer\n",
        "from sklearn.preprocessing import LabelEncoder\n",
        "from tensorflow.keras.utils import to_categorical\n",
        "from tensorflow.keras.preprocessing.sequence import pad_sequences\n",
        "from tensorflow.keras.layers import Conv1D, Dense, Dropout, Input, MaxPooling1D, BatchNormalization, Flatten, LSTM, ZeroPadding1D\n",
        "from tensorflow.keras.models import Sequential\n",
        "from tensorflow.keras.callbacks import ReduceLROnPlateau, ModelCheckpoint\n"
      ],
      "metadata": {
        "id": "rCKHLbfBmmLW"
      },
      "execution_count": null,
      "outputs": []
    },
    {
      "cell_type": "code",
      "source": [
        "x = df_oversampled['text_akhir']\n",
        "y = df_oversampled['polarity']\n",
        "\n",
        "label_encoder = LabelEncoder()\n",
        "y = label_encoder.fit_transform(y)\n",
        "y = to_categorical(y)\n",
        "\n",
        "tfidf = TfidfVectorizer(max_features=100, ngram_range=(1,2))\n",
        "x_tfidf = tfidf.fit_transform(x).toarray()\n",
        "x_tfidf = x_tfidf[..., None]\n",
        "\n",
        "x_train, x_test, y_train, y_test = train_test_split(x_tfidf, y, test_size=0.2, random_state=42)"
      ],
      "metadata": {
        "id": "65PzNCRUmpLp"
      },
      "execution_count": null,
      "outputs": []
    },
    {
      "cell_type": "code",
      "source": [
        "model_cnn = Sequential([\n",
        "    Input(shape=(x_tfidf.shape[1], 1)),\n",
        "    ZeroPadding1D(padding=2),\n",
        "    Conv1D(128, 5, activation='relu', padding='valid'),\n",
        "    MaxPooling1D(),\n",
        "    BatchNormalization(),\n",
        "    Conv1D(256, 5, activation='relu', padding='valid'),\n",
        "    MaxPooling1D(),\n",
        "    BatchNormalization(),\n",
        "    Conv1D(512, 5, activation='relu', padding='valid'),\n",
        "    MaxPooling1D(),\n",
        "    BatchNormalization(),\n",
        "    Conv1D(256, 5, activation='relu', padding='valid'),\n",
        "    MaxPooling1D(),\n",
        "    BatchNormalization(),\n",
        "    LSTM(128, return_sequences=True),\n",
        "    Flatten(),\n",
        "    Dense(256, activation='relu'),\n",
        "    Dropout(0.5),\n",
        "    Dense(128, activation='relu'),\n",
        "    Dropout(0.5),\n",
        "    Dense(3, activation='softmax')\n",
        "])"
      ],
      "metadata": {
        "id": "RRdUclz2m0Dv"
      },
      "execution_count": null,
      "outputs": []
    },
    {
      "cell_type": "code",
      "source": [
        "model_cnn.summary()"
      ],
      "metadata": {
        "colab": {
          "base_uri": "https://localhost:8080/"
        },
        "id": "dXfj5mJBm6S_",
        "outputId": "4fa53758-db91-4649-b7cf-2f229791a109"
      },
      "execution_count": null,
      "outputs": [
        {
          "output_type": "stream",
          "name": "stdout",
          "text": [
            "Model: \"sequential\"\n",
            "_________________________________________________________________\n",
            " Layer (type)                Output Shape              Param #   \n",
            "=================================================================\n",
            " zero_padding1d (ZeroPaddin  (None, 104, 1)            0         \n",
            " g1D)                                                            \n",
            "                                                                 \n",
            " conv1d (Conv1D)             (None, 100, 128)          768       \n",
            "                                                                 \n",
            " max_pooling1d (MaxPooling1  (None, 50, 128)           0         \n",
            " D)                                                              \n",
            "                                                                 \n",
            " batch_normalization (Batch  (None, 50, 128)           512       \n",
            " Normalization)                                                  \n",
            "                                                                 \n",
            " conv1d_1 (Conv1D)           (None, 46, 256)           164096    \n",
            "                                                                 \n",
            " max_pooling1d_1 (MaxPoolin  (None, 23, 256)           0         \n",
            " g1D)                                                            \n",
            "                                                                 \n",
            " batch_normalization_1 (Bat  (None, 23, 256)           1024      \n",
            " chNormalization)                                                \n",
            "                                                                 \n",
            " conv1d_2 (Conv1D)           (None, 19, 512)           655872    \n",
            "                                                                 \n",
            " max_pooling1d_2 (MaxPoolin  (None, 9, 512)            0         \n",
            " g1D)                                                            \n",
            "                                                                 \n",
            " batch_normalization_2 (Bat  (None, 9, 512)            2048      \n",
            " chNormalization)                                                \n",
            "                                                                 \n",
            " conv1d_3 (Conv1D)           (None, 5, 256)            655616    \n",
            "                                                                 \n",
            " max_pooling1d_3 (MaxPoolin  (None, 2, 256)            0         \n",
            " g1D)                                                            \n",
            "                                                                 \n",
            " batch_normalization_3 (Bat  (None, 2, 256)            1024      \n",
            " chNormalization)                                                \n",
            "                                                                 \n",
            " lstm (LSTM)                 (None, 2, 128)            197120    \n",
            "                                                                 \n",
            " flatten (Flatten)           (None, 256)               0         \n",
            "                                                                 \n",
            " dense (Dense)               (None, 256)               65792     \n",
            "                                                                 \n",
            " dropout (Dropout)           (None, 256)               0         \n",
            "                                                                 \n",
            " dense_1 (Dense)             (None, 128)               32896     \n",
            "                                                                 \n",
            " dropout_1 (Dropout)         (None, 128)               0         \n",
            "                                                                 \n",
            " dense_2 (Dense)             (None, 3)                 387       \n",
            "                                                                 \n",
            "=================================================================\n",
            "Total params: 1777155 (6.78 MB)\n",
            "Trainable params: 1774851 (6.77 MB)\n",
            "Non-trainable params: 2304 (9.00 KB)\n",
            "_________________________________________________________________\n"
          ]
        }
      ]
    },
    {
      "cell_type": "code",
      "source": [
        "model_cnn.compile(\n",
        "    optimizer='adam',\n",
        "    loss='categorical_crossentropy',\n",
        "    metrics=['accuracy']\n",
        ")"
      ],
      "metadata": {
        "id": "nkuTgYUVm8Ce"
      },
      "execution_count": null,
      "outputs": []
    },
    {
      "cell_type": "code",
      "source": [
        "class CustomCallback(tf.keras.callbacks.Callback):\n",
        "    def on_epoch_end(self, epoch, logs={}):\n",
        "        if logs.get('accuracy') > 0.92 and logs.get('val_accuracy') > 0.92:\n",
        "            print(\"\\nLatihannya Sudah Cukup ya!\")\n",
        "            self.model.stop_training = True\n",
        "\n",
        "custom_callback = CustomCallback()\n",
        "model_checkpoint = ModelCheckpoint('best_model_cnn.h5', monitor='val_loss', save_best_only=True)\n",
        "reduce_lr = ReduceLROnPlateau(monitor='val_loss', factor=0.2, patience=3, min_lr=0.001)"
      ],
      "metadata": {
        "id": "jbvAhxwbm9av"
      },
      "execution_count": null,
      "outputs": []
    },
    {
      "cell_type": "code",
      "source": [
        "history_cnn = model_cnn.fit(x_tfidf,\n",
        "                        y,\n",
        "                        batch_size=128,\n",
        "                        epochs=20,\n",
        "                        validation_data=(x_test, y_test),\n",
        "                        callbacks=[custom_callback, reduce_lr, model_checkpoint])"
      ],
      "metadata": {
        "colab": {
          "base_uri": "https://localhost:8080/"
        },
        "id": "WFTUMkEMm-3W",
        "outputId": "cc912810-aee3-4522-cdd9-7cccfdd796d5"
      },
      "execution_count": null,
      "outputs": [
        {
          "output_type": "stream",
          "name": "stdout",
          "text": [
            "Epoch 1/20\n",
            "123/123 [==============================] - 15s 30ms/step - loss: 1.0707 - accuracy: 0.4209 - val_loss: 1.1012 - val_accuracy: 0.3576 - lr: 0.0010\n",
            "Epoch 2/20\n",
            "  5/123 [>.............................] - ETA: 1s - loss: 0.9844 - accuracy: 0.5250"
          ]
        },
        {
          "output_type": "stream",
          "name": "stderr",
          "text": [
            "/usr/local/lib/python3.10/dist-packages/keras/src/engine/training.py:3103: UserWarning: You are saving your model as an HDF5 file via `model.save()`. This file format is considered legacy. We recommend using instead the native Keras format, e.g. `model.save('my_model.keras')`.\n",
            "  saving_api.save_model(\n"
          ]
        },
        {
          "output_type": "stream",
          "name": "stdout",
          "text": [
            "123/123 [==============================] - 2s 16ms/step - loss: 0.9229 - accuracy: 0.5635 - val_loss: 1.1468 - val_accuracy: 0.3369 - lr: 0.0010\n",
            "Epoch 3/20\n",
            "123/123 [==============================] - 2s 16ms/step - loss: 0.7273 - accuracy: 0.6683 - val_loss: 1.9183 - val_accuracy: 0.3369 - lr: 0.0010\n",
            "Epoch 4/20\n",
            "123/123 [==============================] - 2s 19ms/step - loss: 0.5956 - accuracy: 0.7256 - val_loss: 2.7871 - val_accuracy: 0.3863 - lr: 0.0010\n",
            "Epoch 5/20\n",
            "123/123 [==============================] - 2s 19ms/step - loss: 0.5257 - accuracy: 0.7603 - val_loss: 1.6427 - val_accuracy: 0.5535 - lr: 0.0010\n",
            "Epoch 6/20\n",
            "123/123 [==============================] - 2s 17ms/step - loss: 0.4731 - accuracy: 0.7871 - val_loss: 0.4645 - val_accuracy: 0.7924 - lr: 0.0010\n",
            "Epoch 7/20\n",
            "123/123 [==============================] - 2s 17ms/step - loss: 0.4463 - accuracy: 0.7998 - val_loss: 0.4028 - val_accuracy: 0.8242 - lr: 0.0010\n",
            "Epoch 8/20\n",
            "123/123 [==============================] - 2s 17ms/step - loss: 0.4016 - accuracy: 0.8229 - val_loss: 0.3304 - val_accuracy: 0.8567 - lr: 0.0010\n",
            "Epoch 9/20\n",
            "123/123 [==============================] - 2s 17ms/step - loss: 0.3693 - accuracy: 0.8417 - val_loss: 0.3141 - val_accuracy: 0.8621 - lr: 0.0010\n",
            "Epoch 10/20\n",
            "123/123 [==============================] - 2s 19ms/step - loss: 0.3392 - accuracy: 0.8560 - val_loss: 0.2881 - val_accuracy: 0.8831 - lr: 0.0010\n",
            "Epoch 11/20\n",
            "123/123 [==============================] - 2s 20ms/step - loss: 0.2969 - accuracy: 0.8742 - val_loss: 0.2395 - val_accuracy: 0.9029 - lr: 0.0010\n",
            "Epoch 12/20\n",
            "123/123 [==============================] - 2s 16ms/step - loss: 0.2803 - accuracy: 0.8817 - val_loss: 0.2440 - val_accuracy: 0.9010 - lr: 0.0010\n",
            "Epoch 13/20\n",
            "123/123 [==============================] - 2s 16ms/step - loss: 0.2648 - accuracy: 0.8935 - val_loss: 0.2808 - val_accuracy: 0.8892 - lr: 0.0010\n",
            "Epoch 14/20\n",
            "123/123 [==============================] - 3s 28ms/step - loss: 0.2241 - accuracy: 0.9079 - val_loss: 0.1964 - val_accuracy: 0.9207 - lr: 0.0010\n",
            "Epoch 15/20\n",
            "123/123 [==============================] - 2s 17ms/step - loss: 0.2071 - accuracy: 0.9151 - val_loss: 0.2140 - val_accuracy: 0.9134 - lr: 0.0010\n",
            "Epoch 16/20\n",
            "121/123 [============================>.] - ETA: 0s - loss: 0.1961 - accuracy: 0.9217\n",
            "Latihannya Sudah Cukup ya!\n",
            "123/123 [==============================] - 3s 21ms/step - loss: 0.1961 - accuracy: 0.9218 - val_loss: 0.1673 - val_accuracy: 0.9293 - lr: 0.0010\n"
          ]
        }
      ]
    },
    {
      "cell_type": "code",
      "source": [
        "plt.figure(figsize=(12, 4))\n",
        "\n",
        "plt.subplot(1, 2, 1)\n",
        "plt.plot(history_cnn.history['loss'], label='Train Loss')\n",
        "plt.plot(history_cnn.history['val_loss'], label='Validation Loss')\n",
        "plt.title('Train and Validation Loss')\n",
        "plt.xlabel('Epochs')\n",
        "plt.ylabel('Loss')\n",
        "plt.legend()\n",
        "\n",
        "plt.subplot(1, 2, 2)\n",
        "plt.plot(history_cnn.history['accuracy'], label='Train Accuracy')\n",
        "plt.plot(history_cnn.history['val_accuracy'], label='Validation Accuracy')\n",
        "plt.title('Train and Validation Accuracy')\n",
        "plt.xlabel('Epochs')\n",
        "plt.ylabel('Accuracy')\n",
        "plt.legend()\n",
        "\n",
        "plt.show()"
      ],
      "metadata": {
        "colab": {
          "base_uri": "https://localhost:8080/",
          "height": 410
        },
        "id": "bDIphYDO2v2d",
        "outputId": "6a92fca9-9339-4d40-bb6b-a1235239ae88"
      },
      "execution_count": null,
      "outputs": [
        {
          "output_type": "display_data",
          "data": {
            "text/plain": [
              "<Figure size 1200x400 with 2 Axes>"
            ],
            "image/png": "[encoded data removed]"
          },
          "metadata": {}
        }
      ]
    },
    {
      "cell_type": "code",
      "source": [
        "loss, accuracy = model_cnn.evaluate(x_test, y_test)\n",
        "print(f\"Test Loss: {loss}\")\n",
        "print(f\"Test accuracy: {accuracy}\")"
      ],
      "metadata": {
        "colab": {
          "base_uri": "https://localhost:8080/"
        },
        "id": "2vTKHKvLnDyk",
        "outputId": "f13c4514-07a4-457f-bcb7-30985ff3e8bf"
      },
      "execution_count": null,
      "outputs": [
        {
          "output_type": "stream",
          "name": "stdout",
          "text": [
            "99/99 [==============================] - 1s 6ms/step - loss: 0.1673 - accuracy: 0.9293\n",
            "Test Loss: 0.1672692894935608\n",
            "Test accuracy: 0.9292993545532227\n"
          ]
        }
      ]
    },
    {
      "cell_type": "code",
      "source": [
        "from sklearn.metrics import classification_report\n",
        "import numpy as np\n",
        "\n",
        "y_pred = model_cnn.predict(x_test)\n",
        "y_pred_classes = np.argmax(y_pred, axis=1)\n",
        "y_true = np.argmax(y_test, axis=1)\n",
        "\n",
        "print(classification_report(y_true, y_pred_classes, target_names=label_encoder.classes_))"
      ],
      "metadata": {
        "colab": {
          "base_uri": "https://localhost:8080/"
        },
        "id": "UzIA8WVmnFEN",
        "outputId": "f69ca1f3-9daa-42b1-ef76-ba7fdd469700"
      },
      "execution_count": null,
      "outputs": [
        {
          "output_type": "stream",
          "name": "stdout",
          "text": [
            "99/99 [==============================] - 1s 5ms/step\n",
            "              precision    recall  f1-score   support\n",
            "\n",
            "    negative       0.91      0.92      0.91      1058\n",
            "     neutral       0.94      0.99      0.97      1008\n",
            "    positive       0.94      0.88      0.91      1074\n",
            "\n",
            "    accuracy                           0.93      3140\n",
            "   macro avg       0.93      0.93      0.93      3140\n",
            "weighted avg       0.93      0.93      0.93      3140\n",
            "\n"
          ]
        }
      ]
    },
    {
      "cell_type": "markdown",
      "source": [
        "# Membuat file requirements.txt"
      ],
      "metadata": {
        "id": "NyGNpxKXBTZN"
      }
    },
    {
      "cell_type": "code",
      "source": [
        "!pip freeze > requirements.txt"
      ],
      "metadata": {
        "id": "kZtMxCNV_ipt"
      },
      "execution_count": null,
      "outputs": []
    }
  ],
  "metadata": {
    "colab": {
      "collapsed_sections": [
        "cG8ygo946eTo"
      ],
      "provenance": []
    },
    "kernelspec": {
      "display_name": "Python 3",
      "name": "python3"
    },
    "language_info": {
      "name": "python"
    }
  },
  "nbformat": 4,
  "nbformat_minor": 0
}